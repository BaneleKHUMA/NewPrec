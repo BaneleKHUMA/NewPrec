{
 "cells": [
  {
   "cell_type": "code",
   "execution_count": 1,
   "id": "3544e2a6-2afb-4c26-8c12-1f82ffcc2b7a",
   "metadata": {},
   "outputs": [],
   "source": [
    "import pandas as pd\n",
    "import matplotlib.pyplot as plt\n",
    "import seaborn as sns\n",
    "\n",
    "\n",
    "data = pd.read_csv(r\"C:\\Users\\Banesta\\Downloads\\archive\\crop_yield.csv\")"
   ]
  },
  {
   "cell_type": "code",
   "execution_count": 2,
   "id": "88754c92-e96f-4584-a9d7-21784afdb1c2",
   "metadata": {},
   "outputs": [
    {
     "data": {
      "text/html": [
       "<div>\n",
       "<style scoped>\n",
       "    .dataframe tbody tr th:only-of-type {\n",
       "        vertical-align: middle;\n",
       "    }\n",
       "\n",
       "    .dataframe tbody tr th {\n",
       "        vertical-align: top;\n",
       "    }\n",
       "\n",
       "    .dataframe thead th {\n",
       "        text-align: right;\n",
       "    }\n",
       "</style>\n",
       "<table border=\"1\" class=\"dataframe\">\n",
       "  <thead>\n",
       "    <tr style=\"text-align: right;\">\n",
       "      <th></th>\n",
       "      <th>Region</th>\n",
       "      <th>Soil_Type</th>\n",
       "      <th>Crop</th>\n",
       "      <th>Rainfall_mm</th>\n",
       "      <th>Temperature_Celsius</th>\n",
       "      <th>Fertilizer_Used</th>\n",
       "      <th>Irrigation_Used</th>\n",
       "      <th>Weather_Condition</th>\n",
       "      <th>Days_to_Harvest</th>\n",
       "      <th>Yield_tons_per_hectare</th>\n",
       "    </tr>\n",
       "  </thead>\n",
       "  <tbody>\n",
       "    <tr>\n",
       "      <th>0</th>\n",
       "      <td>West</td>\n",
       "      <td>Sandy</td>\n",
       "      <td>Cotton</td>\n",
       "      <td>897.077239</td>\n",
       "      <td>27.676966</td>\n",
       "      <td>False</td>\n",
       "      <td>True</td>\n",
       "      <td>Cloudy</td>\n",
       "      <td>122</td>\n",
       "      <td>6.555816</td>\n",
       "    </tr>\n",
       "    <tr>\n",
       "      <th>1</th>\n",
       "      <td>South</td>\n",
       "      <td>Clay</td>\n",
       "      <td>Rice</td>\n",
       "      <td>992.673282</td>\n",
       "      <td>18.026142</td>\n",
       "      <td>True</td>\n",
       "      <td>True</td>\n",
       "      <td>Rainy</td>\n",
       "      <td>140</td>\n",
       "      <td>8.527341</td>\n",
       "    </tr>\n",
       "    <tr>\n",
       "      <th>2</th>\n",
       "      <td>North</td>\n",
       "      <td>Loam</td>\n",
       "      <td>Barley</td>\n",
       "      <td>147.998025</td>\n",
       "      <td>29.794042</td>\n",
       "      <td>False</td>\n",
       "      <td>False</td>\n",
       "      <td>Sunny</td>\n",
       "      <td>106</td>\n",
       "      <td>1.127443</td>\n",
       "    </tr>\n",
       "    <tr>\n",
       "      <th>3</th>\n",
       "      <td>North</td>\n",
       "      <td>Sandy</td>\n",
       "      <td>Soybean</td>\n",
       "      <td>986.866331</td>\n",
       "      <td>16.644190</td>\n",
       "      <td>False</td>\n",
       "      <td>True</td>\n",
       "      <td>Rainy</td>\n",
       "      <td>146</td>\n",
       "      <td>6.517573</td>\n",
       "    </tr>\n",
       "    <tr>\n",
       "      <th>4</th>\n",
       "      <td>South</td>\n",
       "      <td>Silt</td>\n",
       "      <td>Wheat</td>\n",
       "      <td>730.379174</td>\n",
       "      <td>31.620687</td>\n",
       "      <td>True</td>\n",
       "      <td>True</td>\n",
       "      <td>Cloudy</td>\n",
       "      <td>110</td>\n",
       "      <td>7.248251</td>\n",
       "    </tr>\n",
       "    <tr>\n",
       "      <th>...</th>\n",
       "      <td>...</td>\n",
       "      <td>...</td>\n",
       "      <td>...</td>\n",
       "      <td>...</td>\n",
       "      <td>...</td>\n",
       "      <td>...</td>\n",
       "      <td>...</td>\n",
       "      <td>...</td>\n",
       "      <td>...</td>\n",
       "      <td>...</td>\n",
       "    </tr>\n",
       "    <tr>\n",
       "      <th>999995</th>\n",
       "      <td>West</td>\n",
       "      <td>Silt</td>\n",
       "      <td>Rice</td>\n",
       "      <td>302.805345</td>\n",
       "      <td>27.987428</td>\n",
       "      <td>False</td>\n",
       "      <td>False</td>\n",
       "      <td>Sunny</td>\n",
       "      <td>76</td>\n",
       "      <td>1.347586</td>\n",
       "    </tr>\n",
       "    <tr>\n",
       "      <th>999996</th>\n",
       "      <td>South</td>\n",
       "      <td>Chalky</td>\n",
       "      <td>Barley</td>\n",
       "      <td>932.991383</td>\n",
       "      <td>39.661039</td>\n",
       "      <td>True</td>\n",
       "      <td>False</td>\n",
       "      <td>Rainy</td>\n",
       "      <td>93</td>\n",
       "      <td>7.311594</td>\n",
       "    </tr>\n",
       "    <tr>\n",
       "      <th>999997</th>\n",
       "      <td>North</td>\n",
       "      <td>Peaty</td>\n",
       "      <td>Cotton</td>\n",
       "      <td>867.362046</td>\n",
       "      <td>24.370042</td>\n",
       "      <td>True</td>\n",
       "      <td>False</td>\n",
       "      <td>Cloudy</td>\n",
       "      <td>108</td>\n",
       "      <td>5.763182</td>\n",
       "    </tr>\n",
       "    <tr>\n",
       "      <th>999998</th>\n",
       "      <td>West</td>\n",
       "      <td>Silt</td>\n",
       "      <td>Wheat</td>\n",
       "      <td>492.812857</td>\n",
       "      <td>33.045505</td>\n",
       "      <td>False</td>\n",
       "      <td>False</td>\n",
       "      <td>Sunny</td>\n",
       "      <td>102</td>\n",
       "      <td>2.070159</td>\n",
       "    </tr>\n",
       "    <tr>\n",
       "      <th>999999</th>\n",
       "      <td>West</td>\n",
       "      <td>Sandy</td>\n",
       "      <td>Maize</td>\n",
       "      <td>180.936180</td>\n",
       "      <td>27.298847</td>\n",
       "      <td>True</td>\n",
       "      <td>False</td>\n",
       "      <td>Sunny</td>\n",
       "      <td>76</td>\n",
       "      <td>2.937243</td>\n",
       "    </tr>\n",
       "  </tbody>\n",
       "</table>\n",
       "<p>1000000 rows × 10 columns</p>\n",
       "</div>"
      ],
      "text/plain": [
       "       Region Soil_Type     Crop  Rainfall_mm  Temperature_Celsius  \\\n",
       "0        West     Sandy   Cotton   897.077239            27.676966   \n",
       "1       South      Clay     Rice   992.673282            18.026142   \n",
       "2       North      Loam   Barley   147.998025            29.794042   \n",
       "3       North     Sandy  Soybean   986.866331            16.644190   \n",
       "4       South      Silt    Wheat   730.379174            31.620687   \n",
       "...       ...       ...      ...          ...                  ...   \n",
       "999995   West      Silt     Rice   302.805345            27.987428   \n",
       "999996  South    Chalky   Barley   932.991383            39.661039   \n",
       "999997  North     Peaty   Cotton   867.362046            24.370042   \n",
       "999998   West      Silt    Wheat   492.812857            33.045505   \n",
       "999999   West     Sandy    Maize   180.936180            27.298847   \n",
       "\n",
       "        Fertilizer_Used  Irrigation_Used Weather_Condition  Days_to_Harvest  \\\n",
       "0                 False             True            Cloudy              122   \n",
       "1                  True             True             Rainy              140   \n",
       "2                 False            False             Sunny              106   \n",
       "3                 False             True             Rainy              146   \n",
       "4                  True             True            Cloudy              110   \n",
       "...                 ...              ...               ...              ...   \n",
       "999995            False            False             Sunny               76   \n",
       "999996             True            False             Rainy               93   \n",
       "999997             True            False            Cloudy              108   \n",
       "999998            False            False             Sunny              102   \n",
       "999999             True            False             Sunny               76   \n",
       "\n",
       "        Yield_tons_per_hectare  \n",
       "0                     6.555816  \n",
       "1                     8.527341  \n",
       "2                     1.127443  \n",
       "3                     6.517573  \n",
       "4                     7.248251  \n",
       "...                        ...  \n",
       "999995                1.347586  \n",
       "999996                7.311594  \n",
       "999997                5.763182  \n",
       "999998                2.070159  \n",
       "999999                2.937243  \n",
       "\n",
       "[1000000 rows x 10 columns]"
      ]
     },
     "execution_count": 2,
     "metadata": {},
     "output_type": "execute_result"
    }
   ],
   "source": [
    "data"
   ]
  },
  {
   "cell_type": "code",
   "execution_count": 3,
   "id": "76a53271-83e4-43fd-b9d9-6d18733e070b",
   "metadata": {},
   "outputs": [
    {
     "name": "stdout",
     "output_type": "stream",
     "text": [
      "Region                    0\n",
      "Soil_Type                 0\n",
      "Crop                      0\n",
      "Rainfall_mm               0\n",
      "Temperature_Celsius       0\n",
      "Fertilizer_Used           0\n",
      "Irrigation_Used           0\n",
      "Weather_Condition         0\n",
      "Days_to_Harvest           0\n",
      "Yield_tons_per_hectare    0\n",
      "dtype: int64\n"
     ]
    }
   ],
   "source": [
    "print(data.isnull().sum())"
   ]
  },
  {
   "cell_type": "code",
   "execution_count": 4,
   "id": "341877b5-79ff-43a1-87a0-9d2e33a44dac",
   "metadata": {},
   "outputs": [
    {
     "name": "stdout",
     "output_type": "stream",
     "text": [
      "Index(['Region', 'Soil_Type', 'Crop', 'Rainfall_mm', 'Temperature_Celsius',\n",
      "       'Fertilizer_Used', 'Irrigation_Used', 'Weather_Condition',\n",
      "       'Days_to_Harvest', 'Yield_tons_per_hectare'],\n",
      "      dtype='object')\n"
     ]
    }
   ],
   "source": [
    "print(data.columns)"
   ]
  },
  {
   "cell_type": "code",
   "execution_count": 5,
   "id": "50e56ff2-0cf3-40ac-9ee1-e6ad94291bba",
   "metadata": {},
   "outputs": [],
   "source": [
    "import warnings\n",
    "warnings.filterwarnings(\"ignore\")"
   ]
  },
  {
   "cell_type": "code",
   "execution_count": 6,
   "id": "d6e1cdf2-dfc4-4ec8-b102-e1f4aec8cd05",
   "metadata": {},
   "outputs": [],
   "source": [
    "# Fill missing numerical values with the mean of the column\n",
    "data['Rainfall_mm'].fillna(data['Rainfall_mm'].mean(), inplace=True)\n",
    "data['Temperature_Celsius'].fillna(data['Temperature_Celsius'].mean(), inplace=True)\n",
    "data['Yield_tons_per_hectare'].fillna(data['Yield_tons_per_hectare'].mean(), inplace=True)\n",
    "\n",
    "# Fill missing categorical values with the mode (most frequent value)\n",
    "data['Soil_Type'].fillna(data['Soil_Type'].mode()[0], inplace=True)\n",
    "data['Weather_Condition'].fillna(data['Weather_Condition'].mode()[0], inplace=True)"
   ]
  },
  {
   "cell_type": "code",
   "execution_count": 7,
   "id": "65be6ff2-3cd1-4e05-84d5-e126e388bf51",
   "metadata": {},
   "outputs": [
    {
     "name": "stdout",
     "output_type": "stream",
     "text": [
      "Region                    0\n",
      "Soil_Type                 0\n",
      "Crop                      0\n",
      "Rainfall_mm               0\n",
      "Temperature_Celsius       0\n",
      "Fertilizer_Used           0\n",
      "Irrigation_Used           0\n",
      "Weather_Condition         0\n",
      "Days_to_Harvest           0\n",
      "Yield_tons_per_hectare    0\n",
      "dtype: int64\n"
     ]
    }
   ],
   "source": [
    "print(data.isnull().sum())"
   ]
  },
  {
   "cell_type": "code",
   "execution_count": 8,
   "id": "bbe00112-cef5-464b-b665-e8bcffcd1a04",
   "metadata": {},
   "outputs": [
    {
     "name": "stdout",
     "output_type": "stream",
     "text": [
      "['Cotton', 'Rice', 'Barley', 'Soybean', 'Wheat']\n"
     ]
    }
   ],
   "source": [
    "# Extract the 'Crop' column as a list\n",
    "crop_list = data['Crop'].tolist()\n",
    "\n",
    "print(crop_list[:5])  # Display first 5 crops"
   ]
  },
  {
   "cell_type": "code",
   "execution_count": 9,
   "id": "815d65e6-d3cb-4e32-a231-27a65997b6eb",
   "metadata": {},
   "outputs": [
    {
     "name": "stdout",
     "output_type": "stream",
     "text": [
      "['West', 'South', 'North', 'North', 'South']\n"
     ]
    }
   ],
   "source": [
    "# Extract the 'Region' column as a list\n",
    "region_list = data['Region'].tolist()\n",
    "\n",
    "print(region_list[:5])  # Display first 5 regions"
   ]
  },
  {
   "cell_type": "code",
   "execution_count": 10,
   "id": "2b21791e-c14c-4b0d-8af5-bfdb6a418821",
   "metadata": {},
   "outputs": [
    {
     "name": "stdout",
     "output_type": "stream",
     "text": [
      "{'East': 4.645594432991786, 'North': 4.654113791721815, 'South': 4.648843499024244, 'West': 4.649330523836857}\n"
     ]
    }
   ],
   "source": [
    "# Create a dictionary mapping Region to average Yield\n",
    "region_yield_dict = data.groupby('Region')['Yield_tons_per_hectare'].mean().to_dict()\n",
    "\n",
    "print(region_yield_dict)  # Print the dictionary\n"
   ]
  },
  {
   "cell_type": "code",
   "execution_count": 11,
   "id": "c9817eb5-7043-45d2-a64d-297b99deb9a3",
   "metadata": {},
   "outputs": [
    {
     "name": "stdout",
     "output_type": "stream",
     "text": [
      "{'Barley', 'Soybean', 'Wheat', 'Rice', 'Cotton', 'Maize'}\n"
     ]
    }
   ],
   "source": [
    "# Get unique crop types\n",
    "unique_crops = set(data['Crop'])\n",
    "\n",
    "print(unique_crops)  # Display unique crops"
   ]
  },
  {
   "cell_type": "code",
   "execution_count": 12,
   "id": "1ef9e374-2ab2-4025-b9bf-3478134a5829",
   "metadata": {},
   "outputs": [
    {
     "name": "stdout",
     "output_type": "stream",
     "text": [
      "{'Peaty', 'Sandy', 'Silt', 'Chalky', 'Clay', 'Loam'}\n"
     ]
    }
   ],
   "source": [
    "# Get unique soil types\n",
    "unique_soil_types = set(data['Soil_Type'])\n",
    "\n",
    "print(unique_soil_types)  # Display unique soil types"
   ]
  },
  {
   "cell_type": "code",
   "execution_count": 13,
   "id": "133ef877-dfad-498b-aee6-580104c99e4b",
   "metadata": {},
   "outputs": [
    {
     "name": "stdout",
     "output_type": "stream",
     "text": [
      "  Region     Crop  Yield_tons_per_hectare\n",
      "0   West   Cotton                6.555816\n",
      "1  South     Rice                8.527341\n",
      "2  North   Barley                1.127443\n",
      "3  North  Soybean                6.517573\n",
      "4  South    Wheat                7.248251\n"
     ]
    }
   ],
   "source": [
    "# Extract specific columns\n",
    "selected_columns = data[['Region', 'Crop', 'Yield_tons_per_hectare']]\n",
    "print(selected_columns.head())  # Display the first few rows of the selected columns\n"
   ]
  },
  {
   "cell_type": "code",
   "execution_count": 14,
   "id": "ea934eef-ff6b-46e5-b638-e49b57c06d61",
   "metadata": {},
   "outputs": [
    {
     "name": "stdout",
     "output_type": "stream",
     "text": [
      "   Region Soil_Type    Crop  Rainfall_mm  Temperature_Celsius  \\\n",
      "10  North     Peaty   Wheat   385.135314            21.656192   \n",
      "11   East     Sandy  Cotton   145.300681            19.755535   \n",
      "12  South     Peaty  Cotton   607.150252            15.562163   \n",
      "13   East      Clay  Barley   929.123735            29.677303   \n",
      "14  North     Peaty  Barley   621.778388            26.843173   \n",
      "15   East    Chalky    Rice   874.456744            27.256869   \n",
      "16   East     Peaty   Wheat   787.084306            25.672920   \n",
      "17  North      Clay  Cotton   416.898632            23.190810   \n",
      "18  North     Sandy  Barley   977.259083            17.604100   \n",
      "19  South      Clay   Maize   888.207630            39.945509   \n",
      "20   East      Clay  Cotton   990.267439            24.072052   \n",
      "\n",
      "    Fertilizer_Used  Irrigation_Used Weather_Condition  Days_to_Harvest  \\\n",
      "10            False            False             Sunny               73   \n",
      "11             True             True            Cloudy              141   \n",
      "12             True             True             Sunny              136   \n",
      "13            False             True             Rainy              134   \n",
      "14             True            False             Rainy               77   \n",
      "15             True            False             Sunny              115   \n",
      "16            False            False            Cloudy               68   \n",
      "17             True             True             Sunny               95   \n",
      "18            False             True             Sunny               93   \n",
      "19             True            False             Rainy               76   \n",
      "20            False             True             Sunny              110   \n",
      "\n",
      "    Yield_tons_per_hectare  \n",
      "10                2.564442  \n",
      "11                4.367612  \n",
      "12                6.525186  \n",
      "13                6.493031  \n",
      "14                4.573219  \n",
      "15                5.839291  \n",
      "16                4.366881  \n",
      "17                4.858924  \n",
      "18                5.778099  \n",
      "19                7.173037  \n",
      "20                6.187396  \n"
     ]
    }
   ],
   "source": [
    "# Extract rows from index 10 to 20\n",
    "rows_10_to_20 = data.iloc[10:21]\n",
    "print(rows_10_to_20)  # Display the selected rows"
   ]
  },
  {
   "cell_type": "code",
   "execution_count": 15,
   "id": "87256a7b-1ffc-4f88-9ec6-c79a22aa9e71",
   "metadata": {},
   "outputs": [
    {
     "name": "stdout",
     "output_type": "stream",
     "text": [
      "  Region Soil_Type     Crop  Rainfall_mm  Temperature_Celsius  \\\n",
      "0   West     Sandy   Cotton   897.077239            27.676966   \n",
      "1  South      Clay     Rice   992.673282            18.026142   \n",
      "3  North     Sandy  Soybean   986.866331            16.644190   \n",
      "4  South      Silt    Wheat   730.379174            31.620687   \n",
      "5  South      Silt  Soybean   797.471182            37.704974   \n",
      "\n",
      "   Fertilizer_Used  Irrigation_Used Weather_Condition  Days_to_Harvest  \\\n",
      "0            False             True            Cloudy              122   \n",
      "1             True             True             Rainy              140   \n",
      "3            False             True             Rainy              146   \n",
      "4             True             True            Cloudy              110   \n",
      "5            False             True             Rainy               74   \n",
      "\n",
      "   Yield_tons_per_hectare  \n",
      "0                6.555816  \n",
      "1                8.527341  \n",
      "3                6.517573  \n",
      "4                7.248251  \n",
      "5                5.898416  \n"
     ]
    }
   ],
   "source": [
    "# Extract rows where the yield is greater than 5 tons per hectare\n",
    "high_yield = data[data['Yield_tons_per_hectare'] > 5]\n",
    "print(high_yield.head())  # Display the first few rows with high yield\n"
   ]
  },
  {
   "cell_type": "code",
   "execution_count": 16,
   "id": "b864398a-1912-49b6-ad57-bd49577b7aca",
   "metadata": {},
   "outputs": [
    {
     "name": "stdout",
     "output_type": "stream",
     "text": [
      "       Crop  Yield_tons_per_hectare\n",
      "1      Rice                8.527341\n",
      "4     Wheat                7.248251\n",
      "5   Soybean                5.898416\n",
      "7      Rice                5.829542\n",
      "12   Cotton                6.525186\n"
     ]
    }
   ],
   "source": [
    "# Extract specific rows and columns using loc\n",
    "# For instance, getting rows for 'South' region and specific columns\n",
    "south_region_data = data.loc[data['Region'] == 'South', ['Crop', 'Yield_tons_per_hectare']]\n",
    "print(south_region_data.head())  # Display first few rows for South region\n"
   ]
  },
  {
   "cell_type": "code",
   "execution_count": 17,
   "id": "aa52d201-4e4b-4271-b8d5-85db082d2702",
   "metadata": {},
   "outputs": [
    {
     "name": "stdout",
     "output_type": "stream",
     "text": [
      "  Region Soil_Type     Crop\n",
      "0   West     Sandy   Cotton\n",
      "1  South      Clay     Rice\n",
      "2  North      Loam   Barley\n",
      "3  North     Sandy  Soybean\n",
      "4  South      Silt    Wheat\n"
     ]
    }
   ],
   "source": [
    "# Get the first 5 rows and the first 3 columns\n",
    "first_five_rows_columns = data.iloc[0:5, 0:3]\n",
    "print(first_five_rows_columns)  # Display the first five rows and first three columns\n"
   ]
  },
  {
   "cell_type": "code",
   "execution_count": 18,
   "id": "5d71f666-9784-4a42-9748-ca99ee2134ae",
   "metadata": {},
   "outputs": [
    {
     "name": "stdout",
     "output_type": "stream",
     "text": [
      "  Region Soil_Type     Crop  Rainfall_mm  Temperature_Celsius  \\\n",
      "0   West     Sandy   Cotton   897.077239            27.676966   \n",
      "1  South      Clay     Rice   992.673282            18.026142   \n",
      "2  North     Sandy  Soybean   986.866331            16.644190   \n",
      "3  South      Silt    Wheat   730.379174            31.620687   \n",
      "4  South      Silt  Soybean   797.471182            37.704974   \n",
      "\n",
      "   Fertilizer_Used  Irrigation_Used Weather_Condition  Days_to_Harvest  \\\n",
      "0            False             True            Cloudy              122   \n",
      "1             True             True             Rainy              140   \n",
      "2            False             True             Rainy              146   \n",
      "3             True             True            Cloudy              110   \n",
      "4            False             True             Rainy               74   \n",
      "\n",
      "   Yield_tons_per_hectare  \n",
      "0                6.555816  \n",
      "1                8.527341  \n",
      "2                6.517573  \n",
      "3                7.248251  \n",
      "4                5.898416  \n"
     ]
    }
   ],
   "source": [
    "# Resetting index after filtering\n",
    "reset_index_data = high_yield.reset_index(drop=True)\n",
    "print(reset_index_data.head())  # Display the first few rows of the reset index\n"
   ]
  },
  {
   "cell_type": "code",
   "execution_count": 19,
   "id": "27b984d7-125b-43f2-abaf-77b87d72754a",
   "metadata": {},
   "outputs": [
    {
     "name": "stdout",
     "output_type": "stream",
     "text": [
      "          Rainfall_mm  Temperature_Celsius  Yield_tons_per_hectare\n",
      "count  1000000.000000       1000000.000000          1000000.000000\n",
      "mean       549.981901            27.504965                4.649472\n",
      "std        259.851320             7.220608                1.696572\n",
      "min        100.000896            15.000034               -1.147613\n",
      "25%        324.891090            21.254502                3.417637\n",
      "50%        550.124061            27.507365                4.651808\n",
      "75%        774.738520            33.753267                5.879200\n",
      "max        999.998098            39.999997                9.963372\n"
     ]
    }
   ],
   "source": [
    "# Display the numerical columns\n",
    "numerical_cols = ['Rainfall_mm', 'Temperature_Celsius', 'Yield_tons_per_hectare']\n",
    "print(data[numerical_cols].describe())  # Get summary statistics of numerical columns\n"
   ]
  },
  {
   "cell_type": "code",
   "execution_count": 20,
   "id": "d95df33d-e3eb-44e0-86c1-b65df62e0070",
   "metadata": {},
   "outputs": [
    {
     "name": "stdout",
     "output_type": "stream",
     "text": [
      "   Rainfall_mm  Temperature_Celsius  Yield_tons_per_hectare\n",
      "0     0.885643             0.507078                0.693316\n",
      "1     0.991861             0.121045                0.870756\n",
      "2     0.053330             0.591761                0.204757\n",
      "3     0.985409             0.065766                0.689875\n",
      "4     0.700422             0.664827                0.755636\n"
     ]
    }
   ],
   "source": [
    "from sklearn.preprocessing import MinMaxScaler\n",
    "\n",
    "# Initialize the scaler\n",
    "scaler = MinMaxScaler()\n",
    "\n",
    "# Normalize the numerical columns\n",
    "data[numerical_cols] = scaler.fit_transform(data[numerical_cols])\n",
    "\n",
    "# Display the normalized data\n",
    "print(data[numerical_cols].head())\n"
   ]
  },
  {
   "cell_type": "code",
   "execution_count": 21,
   "id": "07cad48d-e131-4b37-a984-838a137d0cb5",
   "metadata": {},
   "outputs": [
    {
     "name": "stdout",
     "output_type": "stream",
     "text": [
      "   Rainfall_mm  Temperature_Celsius  Yield_tons_per_hectare\n",
      "0     1.335747             0.023821                1.123645\n",
      "1     1.703634            -1.312747                2.285709\n",
      "2    -1.546977             0.317020               -2.075968\n",
      "3     1.681287            -1.504137                1.101103\n",
      "4     0.694233             0.569997                1.531783\n"
     ]
    }
   ],
   "source": [
    "from sklearn.preprocessing import StandardScaler\n",
    "\n",
    "# Initialize the scaler\n",
    "standard_scaler = StandardScaler()\n",
    "\n",
    "# Standardize the numerical columns\n",
    "data[numerical_cols] = standard_scaler.fit_transform(data[numerical_cols])\n",
    "\n",
    "# Display the standardized data\n",
    "print(data[numerical_cols].head())\n"
   ]
  },
  {
   "cell_type": "code",
   "execution_count": 22,
   "id": "9ca33f22-355f-4f03-93f1-06b64af609b5",
   "metadata": {},
   "outputs": [
    {
     "name": "stdout",
     "output_type": "stream",
     "text": [
      "        Rainfall_mm  Temperature_Celsius  Yield_tons_per_hectare\n",
      "count  1.000000e+06         1.000000e+06            1.000000e+06\n",
      "mean   1.408296e-16        -2.939657e-16            1.388731e-15\n",
      "std    1.000001e+00         1.000001e+00            1.000001e+00\n",
      "min   -1.731687e+00        -1.731840e+00           -3.416941e+00\n",
      "25%   -8.662297e-01        -8.656427e-01           -7.260731e-01\n",
      "50%    5.470826e-04         3.324143e-04            1.376680e-03\n",
      "75%    8.649436e-01         8.653434e-01            7.248310e-01\n",
      "max    1.731823e+00         1.730469e+00            3.132140e+00\n"
     ]
    }
   ],
   "source": [
    "# Check the summary statistics after normalization or standardization\n",
    "print(data[numerical_cols].describe())\n"
   ]
  },
  {
   "cell_type": "code",
   "execution_count": null,
   "id": "d7b467a4-9aef-4ed1-b42f-fe5e32a060e2",
   "metadata": {},
   "outputs": [],
   "source": []
  }
 ],
 "metadata": {
  "kernelspec": {
   "display_name": "Python 3 (ipykernel)",
   "language": "python",
   "name": "python3"
  },
  "language_info": {
   "codemirror_mode": {
    "name": "ipython",
    "version": 3
   },
   "file_extension": ".py",
   "mimetype": "text/x-python",
   "name": "python",
   "nbconvert_exporter": "python",
   "pygments_lexer": "ipython3",
   "version": "3.12.4"
  }
 },
 "nbformat": 4,
 "nbformat_minor": 5
}
