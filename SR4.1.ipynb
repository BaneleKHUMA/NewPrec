{
 "cells": [
  {
   "cell_type": "code",
   "execution_count": null,
   "id": "7afa1afb-2d22-4d7e-9480-dd453054855d",
   "metadata": {},
   "outputs": [],
   "source": [
    "import pandas as pd\n",
    "import matplotlib.pyplot as plt\n",
    "import seaborn as sns\n",
    "import warnings\n",
    "warnings.filterwarnings(\"ignore\")\n",
    "\n",
    "\n",
    "data = pd.read_csv(r\"C:\\Users\\Banesta\\Downloads\\archive\\crop_yield.csv\")\n",
    "data"
   ]
  },
  {
   "cell_type": "code",
   "execution_count": null,
   "id": "8926fd9a-a11d-4511-a457-be279b22805a",
   "metadata": {},
   "outputs": [],
   "source": [
    "def selection_sort(arr):\n",
    "    # Traverse through all array elements\n",
    "    for i in range(len(arr)):\n",
    "        # Find the minimum element in the remaining unsorted array\n",
    "        min_index = i\n",
    "        for j in range(i + 1, len(arr)):\n",
    "            if arr[j] < arr[min_index]:\n",
    "                min_index = j\n",
    "        # Swap the found minimum element with the first element\n",
    "        arr[i], arr[min_index] = arr[min_index], arr[i]\n",
    "\n",
    "# Example usage of Selection Sort on Yield_tons_per_hectare\n",
    "# Extract the Yield_tons_per_hectare column as a list\n",
    "yield_data = data['Yield_tons_per_hectare'].tolist()\n",
    "\n",
    "# Sort the yield data using selection sort\n",
    "selection_sort(yield_data)\n",
    "\n",
    "# Display the sorted data\n",
    "print(\"Sorted Yield Data (Ascending Order):\")\n",
    "print(yield_data)\n"
   ]
  },
  {
   "cell_type": "code",
   "execution_count": null,
   "id": "4f8f715a-19c1-444e-bdc7-aa4b332fbe0f",
   "metadata": {},
   "outputs": [],
   "source": []
  }
 ],
 "metadata": {
  "kernelspec": {
   "display_name": "Python 3 (ipykernel)",
   "language": "python",
   "name": "python3"
  },
  "language_info": {
   "codemirror_mode": {
    "name": "ipython",
    "version": 3
   },
   "file_extension": ".py",
   "mimetype": "text/x-python",
   "name": "python",
   "nbconvert_exporter": "python",
   "pygments_lexer": "ipython3",
   "version": "3.12.4"
  }
 },
 "nbformat": 4,
 "nbformat_minor": 5
}
